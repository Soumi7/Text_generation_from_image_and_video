{
  "nbformat": 4,
  "nbformat_minor": 0,
  "metadata": {
    "colab": {
      "name": "TextSummarization.ipynb",
      "provenance": [],
      "authorship_tag": "ABX9TyOPjiMFvF4yEHBYVsVfTiSY",
      "include_colab_link": true
    },
    "kernelspec": {
      "name": "python3",
      "display_name": "Python 3"
    }
  },
  "cells": [
    {
      "cell_type": "markdown",
      "metadata": {
        "id": "view-in-github",
        "colab_type": "text"
      },
      "source": [
        "<a href=\"https://colab.research.google.com/github/Soumi7/Text_generation_from_image_and_video/blob/master/TextSummarization.ipynb\" target=\"_parent\"><img src=\"https://colab.research.google.com/assets/colab-badge.svg\" alt=\"Open In Colab\"/></a>"
      ]
    },
    {
      "cell_type": "code",
      "metadata": {
        "id": "I8oSxydwzOVW",
        "colab_type": "code",
        "colab": {
          "base_uri": "https://localhost:8080/",
          "height": 35
        },
        "outputId": "d7d17782-2511-4ce4-8742-890a34a8e91c"
      },
      "source": [
        "!pip install PyPDF2"
      ],
      "execution_count": 37,
      "outputs": [
        {
          "output_type": "stream",
          "text": [
            "Requirement already satisfied: PyPDF2 in /usr/local/lib/python3.6/dist-packages (1.26.0)\n"
          ],
          "name": "stdout"
        }
      ]
    },
    {
      "cell_type": "code",
      "metadata": {
        "id": "LC4IiRRi6Qfb",
        "colab_type": "code",
        "colab": {}
      },
      "source": [
        "import PyPDF2 as pdf"
      ],
      "execution_count": 38,
      "outputs": []
    },
    {
      "cell_type": "code",
      "metadata": {
        "id": "xfOdriye6qtA",
        "colab_type": "code",
        "colab": {}
      },
      "source": [
        "file = open(\"/content/Infy Q1.pdf\",'rb')"
      ],
      "execution_count": 39,
      "outputs": []
    },
    {
      "cell_type": "code",
      "metadata": {
        "id": "4yT504kM7Ek9",
        "colab_type": "code",
        "colab": {
          "base_uri": "https://localhost:8080/",
          "height": 35
        },
        "outputId": "cea6aa08-62a6-4e78-de53-13f62fd2cf8e"
      },
      "source": [
        "file"
      ],
      "execution_count": 40,
      "outputs": [
        {
          "output_type": "execute_result",
          "data": {
            "text/plain": [
              "<_io.BufferedReader name='/content/Infy Q1.pdf'>"
            ]
          },
          "metadata": {
            "tags": []
          },
          "execution_count": 40
        }
      ]
    },
    {
      "cell_type": "code",
      "metadata": {
        "id": "M5xQlx727PT4",
        "colab_type": "code",
        "colab": {}
      },
      "source": [
        "pdf_reader = pdf.PdfFileReader(file)"
      ],
      "execution_count": 41,
      "outputs": []
    },
    {
      "cell_type": "code",
      "metadata": {
        "id": "GnMkXi3c7sRw",
        "colab_type": "code",
        "colab": {
          "base_uri": "https://localhost:8080/",
          "height": 35
        },
        "outputId": "b1948c71-61a8-4c6e-d502-64c9c669804a"
      },
      "source": [
        "pdf_reader"
      ],
      "execution_count": 42,
      "outputs": [
        {
          "output_type": "execute_result",
          "data": {
            "text/plain": [
              "<PyPDF2.pdf.PdfFileReader at 0x7f2697b95048>"
            ]
          },
          "metadata": {
            "tags": []
          },
          "execution_count": 42
        }
      ]
    },
    {
      "cell_type": "code",
      "metadata": {
        "id": "h3tC7tZ_7w7D",
        "colab_type": "code",
        "colab": {
          "base_uri": "https://localhost:8080/",
          "height": 35
        },
        "outputId": "3244e706-a43d-4abb-da3f-01678ce28bed"
      },
      "source": [
        "pdf_reader.getIsEncrypted()"
      ],
      "execution_count": 43,
      "outputs": [
        {
          "output_type": "execute_result",
          "data": {
            "text/plain": [
              "False"
            ]
          },
          "metadata": {
            "tags": []
          },
          "execution_count": 43
        }
      ]
    },
    {
      "cell_type": "code",
      "metadata": {
        "id": "_pR5d9NH8DC8",
        "colab_type": "code",
        "colab": {
          "base_uri": "https://localhost:8080/",
          "height": 35
        },
        "outputId": "9a1352c7-8abd-4256-f2a5-59e9d63e53cf"
      },
      "source": [
        "pdf_reader.getNumPages()"
      ],
      "execution_count": 44,
      "outputs": [
        {
          "output_type": "execute_result",
          "data": {
            "text/plain": [
              "24"
            ]
          },
          "metadata": {
            "tags": []
          },
          "execution_count": 44
        }
      ]
    },
    {
      "cell_type": "code",
      "metadata": {
        "id": "1enzU6aG8RDI",
        "colab_type": "code",
        "colab": {}
      },
      "source": [
        "page1 = pdf_reader.getPage(0)"
      ],
      "execution_count": 45,
      "outputs": []
    },
    {
      "cell_type": "code",
      "metadata": {
        "id": "wNWfAidR8rKS",
        "colab_type": "code",
        "colab": {
          "base_uri": "https://localhost:8080/",
          "height": 1000
        },
        "outputId": "26cc7afa-c9ec-4f82-d0db-5dc55b5a75ce"
      },
      "source": [
        "page1"
      ],
      "execution_count": 46,
      "outputs": [
        {
          "output_type": "execute_result",
          "data": {
            "text/plain": [
              "{'/Contents': {'/Filter': '/FlateDecode'},\n",
              " '/Group': {'/CS': '/DeviceRGB', '/S': '/Transparency', '/Type': '/Group'},\n",
              " '/MediaBox': [0, 0, 595.44, 841.68],\n",
              " '/Parent': {'/Count': 24,\n",
              "  '/Kids': [IndirectObject(3, 0),\n",
              "   IndirectObject(19, 0),\n",
              "   IndirectObject(21, 0),\n",
              "   IndirectObject(29, 0),\n",
              "   IndirectObject(31, 0),\n",
              "   IndirectObject(33, 0),\n",
              "   IndirectObject(35, 0),\n",
              "   IndirectObject(37, 0),\n",
              "   IndirectObject(39, 0),\n",
              "   IndirectObject(41, 0),\n",
              "   IndirectObject(43, 0),\n",
              "   IndirectObject(45, 0),\n",
              "   IndirectObject(47, 0),\n",
              "   IndirectObject(49, 0),\n",
              "   IndirectObject(51, 0),\n",
              "   IndirectObject(53, 0),\n",
              "   IndirectObject(55, 0),\n",
              "   IndirectObject(57, 0),\n",
              "   IndirectObject(59, 0),\n",
              "   IndirectObject(61, 0),\n",
              "   IndirectObject(63, 0),\n",
              "   IndirectObject(65, 0),\n",
              "   IndirectObject(67, 0),\n",
              "   IndirectObject(69, 0)],\n",
              "  '/Type': '/Pages'},\n",
              " '/Resources': {'/ExtGState': {'/GS6': {'/BM': '/Normal',\n",
              "    '/Type': '/ExtGState',\n",
              "    '/ca': 1},\n",
              "   '/GS7': {'/BM': '/Normal', '/CA': 1, '/Type': '/ExtGState'}},\n",
              "  '/Font': {'/F1': {'/BaseFont': '/TimesNewRomanPSMT',\n",
              "    '/Encoding': '/WinAnsiEncoding',\n",
              "    '/FirstChar': 32,\n",
              "    '/FontDescriptor': {'/Ascent': 891,\n",
              "     '/AvgWidth': 401,\n",
              "     '/CapHeight': 693,\n",
              "     '/Descent': -216,\n",
              "     '/Flags': 32,\n",
              "     '/FontBBox': [-568, -216, 2046, 693],\n",
              "     '/FontName': '/TimesNewRomanPSMT',\n",
              "     '/FontWeight': 400,\n",
              "     '/ItalicAngle': 0,\n",
              "     '/Leading': 42,\n",
              "     '/MaxWidth': 2614,\n",
              "     '/StemV': 40,\n",
              "     '/Type': '/FontDescriptor',\n",
              "     '/XHeight': 250},\n",
              "    '/LastChar': 57,\n",
              "    '/Name': '/F1',\n",
              "    '/Subtype': '/TrueType',\n",
              "    '/Type': '/Font',\n",
              "    '/Widths': [250,\n",
              "     0,\n",
              "     0,\n",
              "     0,\n",
              "     0,\n",
              "     0,\n",
              "     0,\n",
              "     0,\n",
              "     0,\n",
              "     0,\n",
              "     0,\n",
              "     0,\n",
              "     0,\n",
              "     333,\n",
              "     0,\n",
              "     0,\n",
              "     500,\n",
              "     500,\n",
              "     500,\n",
              "     500,\n",
              "     500,\n",
              "     500,\n",
              "     500,\n",
              "     500,\n",
              "     500,\n",
              "     500]},\n",
              "   '/F2': {'/BaseFont': '/ArialMT',\n",
              "    '/Encoding': '/WinAnsiEncoding',\n",
              "    '/FirstChar': 32,\n",
              "    '/FontDescriptor': {'/Ascent': 905,\n",
              "     '/AvgWidth': 441,\n",
              "     '/CapHeight': 728,\n",
              "     '/Descent': -210,\n",
              "     '/Flags': 32,\n",
              "     '/FontBBox': [-665, -210, 2000, 728],\n",
              "     '/FontName': '/ArialMT',\n",
              "     '/FontWeight': 400,\n",
              "     '/ItalicAngle': 0,\n",
              "     '/Leading': 33,\n",
              "     '/MaxWidth': 2665,\n",
              "     '/StemV': 44,\n",
              "     '/Type': '/FontDescriptor',\n",
              "     '/XHeight': 250},\n",
              "    '/LastChar': 169,\n",
              "    '/Name': '/F2',\n",
              "    '/Subtype': '/TrueType',\n",
              "    '/Type': '/Font',\n",
              "    '/Widths': [278,\n",
              "     278,\n",
              "     0,\n",
              "     0,\n",
              "     556,\n",
              "     889,\n",
              "     667,\n",
              "     191,\n",
              "     0,\n",
              "     333,\n",
              "     0,\n",
              "     0,\n",
              "     278,\n",
              "     333,\n",
              "     278,\n",
              "     278,\n",
              "     556,\n",
              "     556,\n",
              "     556,\n",
              "     556,\n",
              "     556,\n",
              "     556,\n",
              "     556,\n",
              "     556,\n",
              "     556,\n",
              "     556,\n",
              "     278,\n",
              "     278,\n",
              "     0,\n",
              "     0,\n",
              "     0,\n",
              "     556,\n",
              "     0,\n",
              "     667,\n",
              "     667,\n",
              "     722,\n",
              "     722,\n",
              "     667,\n",
              "     611,\n",
              "     778,\n",
              "     722,\n",
              "     278,\n",
              "     500,\n",
              "     667,\n",
              "     556,\n",
              "     833,\n",
              "     722,\n",
              "     778,\n",
              "     667,\n",
              "     778,\n",
              "     722,\n",
              "     667,\n",
              "     611,\n",
              "     722,\n",
              "     667,\n",
              "     944,\n",
              "     0,\n",
              "     667,\n",
              "     0,\n",
              "     0,\n",
              "     0,\n",
              "     0,\n",
              "     0,\n",
              "     0,\n",
              "     0,\n",
              "     556,\n",
              "     556,\n",
              "     500,\n",
              "     556,\n",
              "     556,\n",
              "     278,\n",
              "     556,\n",
              "     556,\n",
              "     222,\n",
              "     222,\n",
              "     500,\n",
              "     222,\n",
              "     833,\n",
              "     556,\n",
              "     556,\n",
              "     556,\n",
              "     556,\n",
              "     333,\n",
              "     500,\n",
              "     278,\n",
              "     556,\n",
              "     500,\n",
              "     722,\n",
              "     500,\n",
              "     500,\n",
              "     500,\n",
              "     0,\n",
              "     0,\n",
              "     0,\n",
              "     0,\n",
              "     0,\n",
              "     0,\n",
              "     0,\n",
              "     0,\n",
              "     0,\n",
              "     0,\n",
              "     0,\n",
              "     0,\n",
              "     0,\n",
              "     0,\n",
              "     0,\n",
              "     0,\n",
              "     0,\n",
              "     0,\n",
              "     0,\n",
              "     0,\n",
              "     0,\n",
              "     0,\n",
              "     0,\n",
              "     0,\n",
              "     0,\n",
              "     0,\n",
              "     0,\n",
              "     0,\n",
              "     0,\n",
              "     0,\n",
              "     0,\n",
              "     0,\n",
              "     0,\n",
              "     0,\n",
              "     0,\n",
              "     0,\n",
              "     0,\n",
              "     0,\n",
              "     0,\n",
              "     0,\n",
              "     0,\n",
              "     0,\n",
              "     0,\n",
              "     0,\n",
              "     0,\n",
              "     0,\n",
              "     737]},\n",
              "   '/F3': {'/BaseFont': '/Arial-BoldMT',\n",
              "    '/Encoding': '/WinAnsiEncoding',\n",
              "    '/FirstChar': 32,\n",
              "    '/FontDescriptor': {'/Ascent': 905,\n",
              "     '/AvgWidth': 479,\n",
              "     '/CapHeight': 728,\n",
              "     '/Descent': -210,\n",
              "     '/Flags': 32,\n",
              "     '/FontBBox': [-628, -210, 2000, 728],\n",
              "     '/FontName': '/Arial-BoldMT',\n",
              "     '/FontWeight': 700,\n",
              "     '/ItalicAngle': 0,\n",
              "     '/Leading': 33,\n",
              "     '/MaxWidth': 2628,\n",
              "     '/StemV': 47,\n",
              "     '/Type': '/FontDescriptor',\n",
              "     '/XHeight': 250},\n",
              "    '/LastChar': 121,\n",
              "    '/Name': '/F3',\n",
              "    '/Subtype': '/TrueType',\n",
              "    '/Type': '/Font',\n",
              "    '/Widths': [278,\n",
              "     0,\n",
              "     0,\n",
              "     0,\n",
              "     0,\n",
              "     0,\n",
              "     0,\n",
              "     0,\n",
              "     0,\n",
              "     0,\n",
              "     0,\n",
              "     0,\n",
              "     0,\n",
              "     0,\n",
              "     0,\n",
              "     0,\n",
              "     556,\n",
              "     556,\n",
              "     556,\n",
              "     0,\n",
              "     0,\n",
              "     0,\n",
              "     0,\n",
              "     0,\n",
              "     0,\n",
              "     0,\n",
              "     333,\n",
              "     0,\n",
              "     0,\n",
              "     0,\n",
              "     0,\n",
              "     0,\n",
              "     0,\n",
              "     722,\n",
              "     722,\n",
              "     722,\n",
              "     722,\n",
              "     667,\n",
              "     611,\n",
              "     778,\n",
              "     0,\n",
              "     278,\n",
              "     556,\n",
              "     722,\n",
              "     611,\n",
              "     833,\n",
              "     722,\n",
              "     778,\n",
              "     667,\n",
              "     778,\n",
              "     722,\n",
              "     667,\n",
              "     611,\n",
              "     0,\n",
              "     0,\n",
              "     0,\n",
              "     0,\n",
              "     667,\n",
              "     0,\n",
              "     0,\n",
              "     0,\n",
              "     0,\n",
              "     0,\n",
              "     0,\n",
              "     0,\n",
              "     556,\n",
              "     0,\n",
              "     556,\n",
              "     611,\n",
              "     556,\n",
              "     333,\n",
              "     611,\n",
              "     611,\n",
              "     278,\n",
              "     278,\n",
              "     556,\n",
              "     278,\n",
              "     889,\n",
              "     611,\n",
              "     611,\n",
              "     611,\n",
              "     0,\n",
              "     389,\n",
              "     556,\n",
              "     333,\n",
              "     611,\n",
              "     556,\n",
              "     778,\n",
              "     0,\n",
              "     556]},\n",
              "   '/F4': {'/BaseFont': '/ArialMT',\n",
              "    '/DescendantFonts': [IndirectObject(16, 0)],\n",
              "    '/Encoding': '/Identity-H',\n",
              "    '/Subtype': '/Type0',\n",
              "    '/ToUnicode': {'/Filter': '/FlateDecode'},\n",
              "    '/Type': '/Font'}},\n",
              "  '/ProcSet': ['/PDF', '/Text', '/ImageB', '/ImageC', '/ImageI'],\n",
              "  '/XObject': {'/Image5': {'/BitsPerComponent': 8,\n",
              "    '/ColorSpace': '/DeviceRGB',\n",
              "    '/Filter': '/DCTDecode',\n",
              "    '/Height': 841,\n",
              "    '/Interpolate': <PyPDF2.generic.BooleanObject at 0x7f2697bc3c88>,\n",
              "    '/Subtype': '/Image',\n",
              "    '/Type': '/XObject',\n",
              "    '/Width': 595}}},\n",
              " '/StructParents': 0,\n",
              " '/Tabs': '/S',\n",
              " '/Type': '/Page'}"
            ]
          },
          "metadata": {
            "tags": []
          },
          "execution_count": 46
        }
      ]
    },
    {
      "cell_type": "code",
      "metadata": {
        "id": "OhjPAv878u2V",
        "colab_type": "code",
        "colab": {
          "base_uri": "https://localhost:8080/",
          "height": 125
        },
        "outputId": "51e9e7a9-268d-43c1-8e06-e73f627ab3bf"
      },
      "source": [
        "page1.extractText()"
      ],
      "execution_count": 47,
      "outputs": [
        {
          "output_type": "execute_result",
          "data": {
            "application/vnd.google.colaboratory.intrinsic+json": {
              "type": "string"
            },
            "text/plain": [
              "' \\nExternal Document © 20\\n20\\n \\nInfosys Limited\\n \\n1\\n \\n \\nInfosys Earnings Call\\n \\nQ1 FY2021\\n \\nJuly 15, 2020\\n \\n \\n \\nCORPORATE PARTICIPAN\\nTS:\\n \\n \\nSalil Parekh\\n \\nChief Executive Officer & Managing Director\\n \\n \\nPravin Rao\\n \\nChief Operating Officer and Whole\\n-\\ntime Director\\n \\n \\nNilanjan Roy\\n \\nChief Financial Officer\\n \\n \\nSandeep Mahindroo\\n \\nFinancial Controller and Head \\n\\n \\nInvestor Relations\\n \\n \\n \\nANALYSTS\\n \\n \\nKeith Bachman\\n \\nBank of Montreal\\n \\n \\nDiviya Nagarajan\\n \\nUBS\\n \\n \\nEdward Caso\\n \\nWells Fargo\\n \\n \\nBryan Bergin\\n \\nCowen\\n \\n \\nParag Gupta\\n \\nMorgan Stanley\\n \\n \\nMoshe Katri\\n \\nWedbush\\n \\n \\nSudheer Guntupalli\\n \\nMotilal Oswal Financial\\n \\n \\nJames Friedman\\n \\n'"
            ]
          },
          "metadata": {
            "tags": []
          },
          "execution_count": 47
        }
      ]
    },
    {
      "cell_type": "code",
      "metadata": {
        "id": "6FUMon9P83MB",
        "colab_type": "code",
        "colab": {}
      },
      "source": [
        "page2 = pdf_reader.getPage(1)"
      ],
      "execution_count": 48,
      "outputs": []
    },
    {
      "cell_type": "code",
      "metadata": {
        "id": "LsJ17QND9PKv",
        "colab_type": "code",
        "colab": {
          "base_uri": "https://localhost:8080/",
          "height": 53
        },
        "outputId": "e9a5e396-19c7-4ff4-af78-7f58daccb54d"
      },
      "source": [
        "page2.extractText()"
      ],
      "execution_count": 49,
      "outputs": [
        {
          "output_type": "execute_result",
          "data": {
            "application/vnd.google.colaboratory.intrinsic+json": {
              "type": "string"
            },
            "text/plain": [
              "' \\nExternal Document © 20\\n20\\n \\nInfosys Limited\\n \\n2\\n \\nSusquehanna\\n \\n \\nAnkur Rudra\\n \\nJP Morgan\\n \\n \\nRod Bourgeois\\n \\nDeepDive Equity\\n \\n \\n'"
            ]
          },
          "metadata": {
            "tags": []
          },
          "execution_count": 49
        }
      ]
    },
    {
      "cell_type": "code",
      "metadata": {
        "id": "In3Dk2YNKAT3",
        "colab_type": "code",
        "colab": {
          "base_uri": "https://localhost:8080/",
          "height": 397
        },
        "outputId": "aaef6e96-2d8c-43c9-9f66-0e91c8991471"
      },
      "source": [
        "!pip install spacy"
      ],
      "execution_count": 50,
      "outputs": [
        {
          "output_type": "stream",
          "text": [
            "Requirement already satisfied: spacy in /usr/local/lib/python3.6/dist-packages (2.2.4)\n",
            "Requirement already satisfied: thinc==7.4.0 in /usr/local/lib/python3.6/dist-packages (from spacy) (7.4.0)\n",
            "Requirement already satisfied: blis<0.5.0,>=0.4.0 in /usr/local/lib/python3.6/dist-packages (from spacy) (0.4.1)\n",
            "Requirement already satisfied: cymem<2.1.0,>=2.0.2 in /usr/local/lib/python3.6/dist-packages (from spacy) (2.0.3)\n",
            "Requirement already satisfied: wasabi<1.1.0,>=0.4.0 in /usr/local/lib/python3.6/dist-packages (from spacy) (0.7.1)\n",
            "Requirement already satisfied: numpy>=1.15.0 in /usr/local/lib/python3.6/dist-packages (from spacy) (1.18.5)\n",
            "Requirement already satisfied: preshed<3.1.0,>=3.0.2 in /usr/local/lib/python3.6/dist-packages (from spacy) (3.0.2)\n",
            "Requirement already satisfied: requests<3.0.0,>=2.13.0 in /usr/local/lib/python3.6/dist-packages (from spacy) (2.23.0)\n",
            "Requirement already satisfied: setuptools in /usr/local/lib/python3.6/dist-packages (from spacy) (49.2.0)\n",
            "Requirement already satisfied: plac<1.2.0,>=0.9.6 in /usr/local/lib/python3.6/dist-packages (from spacy) (1.1.3)\n",
            "Requirement already satisfied: murmurhash<1.1.0,>=0.28.0 in /usr/local/lib/python3.6/dist-packages (from spacy) (1.0.2)\n",
            "Requirement already satisfied: tqdm<5.0.0,>=4.38.0 in /usr/local/lib/python3.6/dist-packages (from spacy) (4.41.1)\n",
            "Requirement already satisfied: catalogue<1.1.0,>=0.0.7 in /usr/local/lib/python3.6/dist-packages (from spacy) (1.0.0)\n",
            "Requirement already satisfied: srsly<1.1.0,>=1.0.2 in /usr/local/lib/python3.6/dist-packages (from spacy) (1.0.2)\n",
            "Requirement already satisfied: certifi>=2017.4.17 in /usr/local/lib/python3.6/dist-packages (from requests<3.0.0,>=2.13.0->spacy) (2020.6.20)\n",
            "Requirement already satisfied: urllib3!=1.25.0,!=1.25.1,<1.26,>=1.21.1 in /usr/local/lib/python3.6/dist-packages (from requests<3.0.0,>=2.13.0->spacy) (1.24.3)\n",
            "Requirement already satisfied: idna<3,>=2.5 in /usr/local/lib/python3.6/dist-packages (from requests<3.0.0,>=2.13.0->spacy) (2.10)\n",
            "Requirement already satisfied: chardet<4,>=3.0.2 in /usr/local/lib/python3.6/dist-packages (from requests<3.0.0,>=2.13.0->spacy) (3.0.4)\n",
            "Requirement already satisfied: importlib-metadata>=0.20; python_version < \"3.8\" in /usr/local/lib/python3.6/dist-packages (from catalogue<1.1.0,>=0.0.7->spacy) (1.7.0)\n",
            "Requirement already satisfied: zipp>=0.5 in /usr/local/lib/python3.6/dist-packages (from importlib-metadata>=0.20; python_version < \"3.8\"->catalogue<1.1.0,>=0.0.7->spacy) (3.1.0)\n"
          ],
          "name": "stdout"
        }
      ]
    },
    {
      "cell_type": "code",
      "metadata": {
        "id": "FVpM-W0MJ6Cd",
        "colab_type": "code",
        "colab": {}
      },
      "source": [
        "import spacy"
      ],
      "execution_count": 51,
      "outputs": []
    },
    {
      "cell_type": "code",
      "metadata": {
        "id": "Wwfc68OjKCpx",
        "colab_type": "code",
        "colab": {}
      },
      "source": [
        "from spacy.lang.en.stop_words import STOP_WORDS\n",
        "from string import punctuation"
      ],
      "execution_count": 52,
      "outputs": []
    },
    {
      "cell_type": "code",
      "metadata": {
        "id": "LbsCwIcuKcI0",
        "colab_type": "code",
        "colab": {}
      },
      "source": [
        "stopwords = list(STOP_WORDS)"
      ],
      "execution_count": 53,
      "outputs": []
    },
    {
      "cell_type": "code",
      "metadata": {
        "id": "cjfnghVDKkjC",
        "colab_type": "code",
        "colab": {}
      },
      "source": [
        "nlp = spacy.load(\"en_core_web_sm\")"
      ],
      "execution_count": 54,
      "outputs": []
    },
    {
      "cell_type": "code",
      "metadata": {
        "id": "sFPOQ8O9K3zj",
        "colab_type": "code",
        "colab": {}
      },
      "source": [
        "doc = nlp(page1.extractText())"
      ],
      "execution_count": 55,
      "outputs": []
    },
    {
      "cell_type": "code",
      "metadata": {
        "id": "h_tvQ8MpLHIe",
        "colab_type": "code",
        "colab": {}
      },
      "source": [
        "tokens = [token.text for token in doc]"
      ],
      "execution_count": 56,
      "outputs": []
    },
    {
      "cell_type": "code",
      "metadata": {
        "id": "Kme9TXrnLPL6",
        "colab_type": "code",
        "colab": {
          "base_uri": "https://localhost:8080/",
          "height": 55
        },
        "outputId": "1051125a-fc5b-473f-c20a-23f7154d23f1"
      },
      "source": [
        "print(tokens)"
      ],
      "execution_count": 57,
      "outputs": [
        {
          "output_type": "stream",
          "text": [
            "[' \\n', 'External', 'Document', '©', '20', '\\n', '20', '\\n \\n', 'Infosys', 'Limited', '\\n \\n', '1', '\\n \\n \\n', 'Infosys', 'Earnings', 'Call', '\\n \\n', 'Q1', 'FY2021', '\\n \\n', 'July', '15', ',', '2020', '\\n \\n \\n \\n', 'CORPORATE', 'PARTICIPAN', '\\n', 'TS', ':', '\\n \\n \\n', 'Salil', 'Parekh', '\\n \\n', 'Chief', 'Executive', 'Officer', '&', 'Managing', 'Director', '\\n \\n \\n', 'Pravin', 'Rao', '\\n \\n', 'Chief', 'Operating', 'Officer', 'and', 'Whole', '\\n', '-', '\\n', 'time', 'Director', '\\n \\n \\n', 'Nilanjan', 'Roy', '\\n \\n', 'Chief', 'Financial', 'Officer', '\\n \\n \\n', 'Sandeep', 'Mahindroo', '\\n \\n', 'Financial', 'Controller', 'and', 'Head', '\\n\\n \\n', 'Investor', 'Relations', '\\n \\n \\n \\n', 'ANALYSTS', '\\n \\n \\n', 'Keith', 'Bachman', '\\n \\n', 'Bank', 'of', 'Montreal', '\\n \\n \\n', 'Diviya', 'Nagarajan', '\\n \\n', 'UBS', '\\n \\n \\n', 'Edward', 'Caso', '\\n \\n', 'Wells', 'Fargo', '\\n \\n \\n', 'Bryan', 'Bergin', '\\n \\n', 'Cowen', '\\n \\n \\n', 'Parag', 'Gupta', '\\n \\n', 'Morgan', 'Stanley', '\\n \\n \\n', 'Moshe', 'Katri', '\\n \\n', 'Wedbush', '\\n \\n \\n', 'Sudheer', 'Guntupalli', '\\n \\n', 'Motilal', 'Oswal', 'Financial', '\\n \\n \\n', 'James', 'Friedman', '\\n \\n']\n"
          ],
          "name": "stdout"
        }
      ]
    },
    {
      "cell_type": "code",
      "metadata": {
        "id": "BSEENYgaPFgW",
        "colab_type": "code",
        "colab": {
          "base_uri": "https://localhost:8080/",
          "height": 35
        },
        "outputId": "df4023e8-8be7-4e54-a6b1-28a9e645b84b"
      },
      "source": [
        "punctuation = punctuation + \"\\n\"\n",
        "punctuation"
      ],
      "execution_count": 58,
      "outputs": [
        {
          "output_type": "execute_result",
          "data": {
            "application/vnd.google.colaboratory.intrinsic+json": {
              "type": "string"
            },
            "text/plain": [
              "'!\"#$%&\\'()*+,-./:;<=>?@[\\\\]^_`{|}~\\n'"
            ]
          },
          "metadata": {
            "tags": []
          },
          "execution_count": 58
        }
      ]
    },
    {
      "cell_type": "code",
      "metadata": {
        "id": "xMzyKRIqPrpE",
        "colab_type": "code",
        "colab": {}
      },
      "source": [
        "word_frequencies = {}\n",
        "for word in doc:\n",
        "  if word.text.lower() not in stopwords:\n",
        "    if word.text.lower() not in punctuation:\n",
        "      if word.text.lower() not in word_frequencies.keys():\n",
        "        word_frequencies[word.text]=1\n",
        "      else:\n",
        "        word_frequencies[word.text]+=1\n",
        "\n",
        "\n"
      ],
      "execution_count": 61,
      "outputs": []
    },
    {
      "cell_type": "code",
      "metadata": {
        "id": "NukfxbDarumu",
        "colab_type": "code",
        "colab": {
          "base_uri": "https://localhost:8080/",
          "height": 1000
        },
        "outputId": "adb2fceb-7f89-4a4a-c0d7-311e5b784764"
      },
      "source": [
        "word_frequencies"
      ],
      "execution_count": 62,
      "outputs": [
        {
          "output_type": "execute_result",
          "data": {
            "text/plain": [
              "{'\\n\\n \\n': 1,\n",
              " '\\n \\n': 16,\n",
              " '\\n \\n \\n': 13,\n",
              " '\\n \\n \\n \\n': 2,\n",
              " ' \\n': 1,\n",
              " '1': 1,\n",
              " '15': 1,\n",
              " '20': 2,\n",
              " '2020': 1,\n",
              " 'ANALYSTS': 1,\n",
              " 'Bachman': 1,\n",
              " 'Bank': 1,\n",
              " 'Bergin': 1,\n",
              " 'Bryan': 1,\n",
              " 'CORPORATE': 1,\n",
              " 'Caso': 1,\n",
              " 'Chief': 1,\n",
              " 'Controller': 1,\n",
              " 'Cowen': 1,\n",
              " 'Director': 1,\n",
              " 'Diviya': 1,\n",
              " 'Document': 1,\n",
              " 'Earnings': 1,\n",
              " 'Edward': 1,\n",
              " 'Executive': 1,\n",
              " 'External': 1,\n",
              " 'FY2021': 1,\n",
              " 'Fargo': 1,\n",
              " 'Financial': 1,\n",
              " 'Friedman': 1,\n",
              " 'Guntupalli': 1,\n",
              " 'Gupta': 1,\n",
              " 'Head': 1,\n",
              " 'Infosys': 1,\n",
              " 'Investor': 1,\n",
              " 'James': 1,\n",
              " 'July': 1,\n",
              " 'Katri': 1,\n",
              " 'Keith': 1,\n",
              " 'Limited': 1,\n",
              " 'Mahindroo': 1,\n",
              " 'Managing': 1,\n",
              " 'Montreal': 1,\n",
              " 'Morgan': 1,\n",
              " 'Moshe': 1,\n",
              " 'Motilal': 1,\n",
              " 'Nagarajan': 1,\n",
              " 'Nilanjan': 1,\n",
              " 'Officer': 1,\n",
              " 'Operating': 1,\n",
              " 'Oswal': 1,\n",
              " 'PARTICIPAN': 1,\n",
              " 'Parag': 1,\n",
              " 'Parekh': 1,\n",
              " 'Pravin': 1,\n",
              " 'Q1': 1,\n",
              " 'Rao': 1,\n",
              " 'Relations': 1,\n",
              " 'Roy': 1,\n",
              " 'Salil': 1,\n",
              " 'Sandeep': 1,\n",
              " 'Stanley': 1,\n",
              " 'Sudheer': 1,\n",
              " 'TS': 1,\n",
              " 'UBS': 1,\n",
              " 'Wedbush': 1,\n",
              " 'Wells': 1,\n",
              " 'time': 1,\n",
              " '©': 1}"
            ]
          },
          "metadata": {
            "tags": []
          },
          "execution_count": 62
        }
      ]
    },
    {
      "cell_type": "code",
      "metadata": {
        "id": "iHNt_ce8rzRg",
        "colab_type": "code",
        "colab": {}
      },
      "source": [
        "max_frequency = max(word_frequencies.values())"
      ],
      "execution_count": 63,
      "outputs": []
    },
    {
      "cell_type": "code",
      "metadata": {
        "id": "2D-K5QH9r-U3",
        "colab_type": "code",
        "colab": {
          "base_uri": "https://localhost:8080/",
          "height": 35
        },
        "outputId": "b1794b8d-176c-4d7f-ef10-54fb5f29b149"
      },
      "source": [
        "max_frequency"
      ],
      "execution_count": 64,
      "outputs": [
        {
          "output_type": "execute_result",
          "data": {
            "text/plain": [
              "16"
            ]
          },
          "metadata": {
            "tags": []
          },
          "execution_count": 64
        }
      ]
    },
    {
      "cell_type": "code",
      "metadata": {
        "id": "TqQ8s6RNsBY8",
        "colab_type": "code",
        "colab": {
          "base_uri": "https://localhost:8080/",
          "height": 55
        },
        "outputId": "cbd8f953-6f3a-4b72-e673-6bbfda955c3e"
      },
      "source": [
        "for word in word_frequencies.keys():\n",
        "  word_frequencies[word]=word_frequencies[word]/max_frequency\n",
        "print(word_frequencies)"
      ],
      "execution_count": 66,
      "outputs": [
        {
          "output_type": "stream",
          "text": [
            "{' \\n': 0.00390625, 'External': 0.00390625, 'Document': 0.00390625, '©': 0.00390625, '20': 0.0078125, '\\n \\n': 0.0625, 'Infosys': 0.00390625, 'Limited': 0.00390625, '1': 0.00390625, '\\n \\n \\n': 0.05078125, 'Earnings': 0.00390625, 'Q1': 0.00390625, 'FY2021': 0.00390625, 'July': 0.00390625, '15': 0.00390625, '2020': 0.00390625, '\\n \\n \\n \\n': 0.0078125, 'CORPORATE': 0.00390625, 'PARTICIPAN': 0.00390625, 'TS': 0.00390625, 'Salil': 0.00390625, 'Parekh': 0.00390625, 'Chief': 0.00390625, 'Executive': 0.00390625, 'Officer': 0.00390625, 'Managing': 0.00390625, 'Director': 0.00390625, 'Pravin': 0.00390625, 'Rao': 0.00390625, 'Operating': 0.00390625, 'time': 0.00390625, 'Nilanjan': 0.00390625, 'Roy': 0.00390625, 'Financial': 0.00390625, 'Sandeep': 0.00390625, 'Mahindroo': 0.00390625, 'Controller': 0.00390625, 'Head': 0.00390625, '\\n\\n \\n': 0.00390625, 'Investor': 0.00390625, 'Relations': 0.00390625, 'ANALYSTS': 0.00390625, 'Keith': 0.00390625, 'Bachman': 0.00390625, 'Bank': 0.00390625, 'Montreal': 0.00390625, 'Diviya': 0.00390625, 'Nagarajan': 0.00390625, 'UBS': 0.00390625, 'Edward': 0.00390625, 'Caso': 0.00390625, 'Wells': 0.00390625, 'Fargo': 0.00390625, 'Bryan': 0.00390625, 'Bergin': 0.00390625, 'Cowen': 0.00390625, 'Parag': 0.00390625, 'Gupta': 0.00390625, 'Morgan': 0.00390625, 'Stanley': 0.00390625, 'Moshe': 0.00390625, 'Katri': 0.00390625, 'Wedbush': 0.00390625, 'Sudheer': 0.00390625, 'Guntupalli': 0.00390625, 'Motilal': 0.00390625, 'Oswal': 0.00390625, 'James': 0.00390625, 'Friedman': 0.00390625}\n"
          ],
          "name": "stdout"
        }
      ]
    },
    {
      "cell_type": "code",
      "metadata": {
        "id": "txzv9NbIslXs",
        "colab_type": "code",
        "colab": {
          "base_uri": "https://localhost:8080/",
          "height": 1000
        },
        "outputId": "94942aa6-ad7a-4ae7-e224-9d70df122156"
      },
      "source": [
        "sentence_tokens = [sent for sent in doc.sents]\n",
        "print(sentence_tokens)"
      ],
      "execution_count": 67,
      "outputs": [
        {
          "output_type": "stream",
          "text": [
            "[ \n",
            "External Document © 20\n",
            ", 20\n",
            " \n",
            ", Infosys Limited\n",
            " \n",
            "1\n",
            " \n",
            " \n",
            ", Infosys Earnings Call\n",
            " \n",
            ", Q1 FY2021\n",
            " \n",
            "July 15, 2020\n",
            " \n",
            " \n",
            " \n",
            ", CORPORATE PARTICIPAN\n",
            ", TS:\n",
            " \n",
            " \n",
            "Salil Parekh\n",
            " \n",
            ", Chief Executive Officer & Managing Director\n",
            " \n",
            " \n",
            "Pravin Rao\n",
            " \n",
            "Chief Operating Officer and Whole\n",
            "-\n",
            ", time Director\n",
            " \n",
            " \n",
            "Nilanjan Roy\n",
            " \n",
            "Chief Financial Officer\n",
            " \n",
            " \n",
            ", Sandeep Mahindroo\n",
            " \n",
            "Financial Controller and Head \n",
            "\n",
            " \n",
            ", Investor Relations\n",
            " \n",
            " \n",
            " \n",
            ", ANALYSTS\n",
            " \n",
            " \n",
            ", Keith Bachman\n",
            " \n",
            "Bank of Montreal\n",
            " \n",
            " \n",
            ", Diviya Nagarajan\n",
            " \n",
            ", UBS\n",
            " \n",
            " \n",
            "Edward Caso\n",
            " \n",
            ", Wells Fargo\n",
            " \n",
            " \n",
            ", Bryan Bergin\n",
            " \n",
            ", Cowen\n",
            " \n",
            " \n",
            ", Parag Gupta\n",
            " \n",
            ", Morgan Stanley\n",
            " \n",
            " \n",
            "Moshe Katri\n",
            " \n",
            "Wedbush\n",
            " \n",
            " \n",
            "Sudheer Guntupalli\n",
            " \n",
            ", Motilal Oswal Financial\n",
            " \n",
            " \n",
            "James Friedman\n",
            " \n",
            "]\n"
          ],
          "name": "stdout"
        }
      ]
    }
  ]
}